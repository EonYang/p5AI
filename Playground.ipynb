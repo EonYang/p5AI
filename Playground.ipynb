{
 "cells": [
  {
   "cell_type": "code",
   "execution_count": 7,
   "metadata": {},
   "outputs": [
    {
     "name": "stdout",
     "output_type": "stream",
     "text": [
      "'    hello\\n      world\\n    '\n",
      "'hello\\n  world\\n'\n"
     ]
    }
   ],
   "source": [
    "from textwrap import dedent\n",
    "\n",
    "def test():\n",
    "    # end first line with \\ to avoid the empty line!\n",
    "    s = '''\\\n",
    "    hello\n",
    "      world\n",
    "    '''\n",
    "    print(repr(s))          # prints '    hello\\n      world\\n    '\n",
    "    print(repr(dedent(s)))  # prints 'hello\\n  world\\n'\n",
    "test()"
   ]
  },
  {
   "cell_type": "code",
   "execution_count": null,
   "metadata": {},
   "outputs": [],
   "source": []
  },
  {
   "cell_type": "code",
   "execution_count": null,
   "metadata": {},
   "outputs": [],
   "source": []
  }
 ],
 "metadata": {
  "kernelspec": {
   "display_name": "Python 3",
   "language": "python",
   "name": "python3"
  },
  "language_info": {
   "codemirror_mode": {
    "name": "ipython",
    "version": 3
   },
   "file_extension": ".py",
   "mimetype": "text/x-python",
   "name": "python",
   "nbconvert_exporter": "python",
   "pygments_lexer": "ipython3",
   "version": "3.5.0"
  }
 },
 "nbformat": 4,
 "nbformat_minor": 2
}
